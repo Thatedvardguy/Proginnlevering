{
 "cells": [
  {
   "cell_type": "code",
   "execution_count": 1,
   "metadata": {},
   "outputs": [],
   "source": [
    "#7.13"
   ]
  },
  {
   "cell_type": "code",
   "execution_count": 2,
   "metadata": {},
   "outputs": [
    {
     "name": "stdout",
     "output_type": "stream",
     "text": [
      "12.0\n"
     ]
    }
   ],
   "source": [
    "#Rektangelmetoden\n",
    "def f(x):\n",
    "    return x + 2\n",
    "a = 1 #Minste x\n",
    "b = 4 #Største x\n",
    "A = 0 #Areal\n",
    "N = 3 #Antall rektanglet\n",
    "\n",
    "def integ(A,a,b,N):\n",
    "    dx = (b-a)/N #Rektangelmetoden\n",
    "    for i in range(N):\n",
    "        A = A + f(a + i*dx)*dx\n",
    "    return A\n",
    "\n",
    "print(integ(0,1,4,3))"
   ]
  },
  {
   "cell_type": "code",
   "execution_count": 3,
   "metadata": {},
   "outputs": [],
   "source": [
    "#7.14\n",
    "#1)"
   ]
  },
  {
   "cell_type": "code",
   "execution_count": 4,
   "metadata": {},
   "outputs": [
    {
     "name": "stdout",
     "output_type": "stream",
     "text": [
      "33.75\n"
     ]
    }
   ],
   "source": [
    "def f(x):\n",
    "    return 2*x + 1\n",
    "\n",
    "def integ(a,b,N):\n",
    "    A = 0\n",
    "    dx = (b-a)/N #Rektangelmetoden\n",
    "    for i in range(N):\n",
    "        A = A + f(a + i*dx)*dx\n",
    "    return A\n",
    "\n",
    "print(integ(1,6,4))"
   ]
  },
  {
   "cell_type": "code",
   "execution_count": 5,
   "metadata": {},
   "outputs": [],
   "source": [
    "#2)"
   ]
  },
  {
   "cell_type": "code",
   "execution_count": 6,
   "metadata": {},
   "outputs": [
    {
     "name": "stdout",
     "output_type": "stream",
     "text": [
      "30.192881280002908\n"
     ]
    }
   ],
   "source": [
    "a = 1E+10\n",
    "e = (1+1/a)**a\n",
    "\n",
    "def f(x):\n",
    "    global e\n",
    "    return e**x\n",
    "\n",
    "def integ(a,b,N):\n",
    "    A = 0\n",
    "    dx = (b-a)/N #Rektangelmetoden\n",
    "    for i in range(N):\n",
    "        A = A + f(a + i*dx)*dx\n",
    "    return A\n",
    "\n",
    "print(integ(1,4,3))"
   ]
  },
  {
   "cell_type": "code",
   "execution_count": 7,
   "metadata": {},
   "outputs": [],
   "source": [
    "#3)"
   ]
  },
  {
   "cell_type": "code",
   "execution_count": 8,
   "metadata": {},
   "outputs": [
    {
     "name": "stdout",
     "output_type": "stream",
     "text": [
      "1.8807016851259029\n"
     ]
    }
   ],
   "source": [
    "from pylab import *\n",
    "\n",
    "def f(x):\n",
    "    return sqrt(log(x))\n",
    "\n",
    "def integ(a,b,N):\n",
    "    A = 0\n",
    "    dx = (b-a)/N #Rektangelmetoden\n",
    "    for i in range(N):\n",
    "        A = A + f(a + i*dx)*dx\n",
    "    return A\n",
    "\n",
    "print(integ(1,4,3))"
   ]
  },
  {
   "cell_type": "code",
   "execution_count": null,
   "metadata": {},
   "outputs": [],
   "source": []
  }
 ],
 "metadata": {
  "kernelspec": {
   "display_name": "Python 3",
   "language": "python",
   "name": "python3"
  },
  "language_info": {
   "codemirror_mode": {
    "name": "ipython",
    "version": 3
   },
   "file_extension": ".py",
   "mimetype": "text/x-python",
   "name": "python",
   "nbconvert_exporter": "python",
   "pygments_lexer": "ipython3",
   "version": "3.8.5"
  }
 },
 "nbformat": 4,
 "nbformat_minor": 4
}
